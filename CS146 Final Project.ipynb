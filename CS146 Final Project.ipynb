{
 "cells": [
  {
   "cell_type": "markdown",
   "metadata": {},
   "source": [
    "# CS146 Final Project\n",
    "## Modeling and forecasting atmospheric CO₂ from 1958 until 2060"
   ]
  },
  {
   "cell_type": "code",
   "execution_count": null,
   "metadata": {},
   "outputs": [],
   "source": []
  },
  {
   "cell_type": "markdown",
   "metadata": {},
   "source": [
    "__\"Some of the most alarming science surrounding climate change is the discovery that it may not happen incrementally — as a steadily rising line on a graph — but in a series of lurches as various “tipping points” are passed.\"__ \n",
    "\n",
    "  -- J. Pearce, Yale School of the Environment (2019)\n",
    "\n",
    "It is not sufficient therefore to develop atmospheric CO2 models simply on historic trends of steady increase. Rather, we need to accomodate for these tipping points and model thresholds and consequent surges. \n",
    "\n",
    "The collapse of forests and other natural carbon stores like permafrost could release tons of carbon dioxide (CO2) into the atmosphere (Pearce, 2019). A concentration of 1200 ppm in the atmosphere could launch such a tipping point (Hausfather, 2019). \n",
    "\n",
    "Whilst it is hard to determine the extent of the \"lurch\" when we cross tipping points because of the complexity of climate interactions, we know that this will be significantly more than past trends."
   ]
  },
  {
   "cell_type": "code",
   "execution_count": null,
   "metadata": {},
   "outputs": [],
   "source": []
  },
  {
   "cell_type": "code",
   "execution_count": null,
   "metadata": {},
   "outputs": [],
   "source": []
  },
  {
   "cell_type": "markdown",
   "metadata": {},
   "source": [
    "## References"
   ]
  },
  {
   "cell_type": "markdown",
   "metadata": {},
   "source": [
    "Hausfather, Z. (2019, February 25). Extreme CO2 levels could trigger clouds 'tipping point' and 8C of global warming. CarbonBrief. https://www.carbonbrief.org/extreme-co2-levels-could-trigger-clouds-tipping-point-and-8c-of-global-warming\n",
    "  "
   ]
  },
  {
   "cell_type": "markdown",
   "metadata": {},
   "source": [
    "Pearce, J. (2019, December 5). As Climate Change Worsens, A Cascade of Tipping Points Looms. Yale School of the Environment. https://e360.yale.edu/features/as-climate-changes-worsens-a-cascade-of-tipping-points-looms "
   ]
  }
 ],
 "metadata": {
  "kernelspec": {
   "display_name": "Python 3",
   "language": "python",
   "name": "python3"
  },
  "language_info": {
   "codemirror_mode": {
    "name": "ipython",
    "version": 3
   },
   "file_extension": ".py",
   "mimetype": "text/x-python",
   "name": "python",
   "nbconvert_exporter": "python",
   "pygments_lexer": "ipython3",
   "version": "3.7.3"
  }
 },
 "nbformat": 4,
 "nbformat_minor": 2
}
